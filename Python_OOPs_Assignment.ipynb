{
  "nbformat": 4,
  "nbformat_minor": 0,
  "metadata": {
    "colab": {
      "provenance": []
    },
    "kernelspec": {
      "name": "python3",
      "display_name": "Python 3"
    },
    "language_info": {
      "name": "python"
    }
  },
  "cells": [
    {
      "cell_type": "markdown",
      "source": [
        "# Python OOPs Theoretical Questions\n",
        "\n",
        "\n",
        "\n",
        "---\n",
        "\n",
        "\n",
        "\n",
        "---\n",
        "\n"
      ],
      "metadata": {
        "id": "EMTNYkkSogO9"
      }
    },
    {
      "cell_type": "markdown",
      "source": [
        "**1.    What is Object-Oriented Programming (OOP)?**  \n",
        "\n",
        " - Object-Oriented Programming (OOP) is a programming style that organizes code by grouping related data and behavior into reusable objects.\n",
        "\n",
        "  **simple  example**  \n",
        "\n",
        "* Think of real-world objects: a Car has properties like color and speed, and behaviors like drive() and brake().\n",
        "\n",
        "* In Python, you can create such models using classes and objects.\n",
        "     "
      ],
      "metadata": {
        "id": "hqAELAe5pLwW"
      }
    },
    {
      "cell_type": "markdown",
      "source": [
        "**2. What is a class in OOP?**  \n",
        "\n",
        "-  A class is like a blueprint or template for creating objects.\n",
        "\n",
        "Just like a blueprint for building houses — you can use it to build many actual houses — a class lets you create multiple objects (instances) with the same structure and behavior."
      ],
      "metadata": {
        "id": "cnuxia6er_t1"
      }
    },
    {
      "cell_type": "markdown",
      "source": [
        "**3.   What is an object in OOP?**  \n",
        "\n",
        "-  An object is a real-world instance of a class.\n",
        "\n",
        "If a class is the blueprint, then an object is the actual building constructed using that blueprint."
      ],
      "metadata": {
        "id": "D30scTXHtT7B"
      }
    },
    {
      "cell_type": "markdown",
      "source": [
        "4.   **What is the difference between abstraction and encapsulation**  \n",
        "\n",
        "-   **Difference Between Abstraction and Encapsulation**\n",
        "\n",
        "\n",
        "          Feature\t                 Abstraction\t                  Encapsulation\n",
        "\n",
        "          What it is\t  Hides complex implementation;     Hides data and methods to protect from outside access\n",
        "                          shows only essentials            \n",
        "         \n",
        "         Purpose\t      Focus on what an object does\t   Control how an object does it (safety)\n",
        "         \n",
        "         Used in\t      Classes, abstract classes, \t    Classes (with private variables & getter/setters)\n",
        "                          interfaces\n",
        "    Real-life example\t  A car’s steering wheel           \tA car’s engine is sealed, so you can't mess with it directly\n",
        "                        (you don't see the mechanics)\n",
        "\n",
        "     How in Python\t    Using classes and methods \t      Using private attributes (_ or __) and getters/setters\n",
        "                         that expose only key operations"
      ],
      "metadata": {
        "id": "fhlC9fm8t9LP"
      }
    },
    {
      "cell_type": "markdown",
      "source": [
        "5.  **What are dunder methods in Python**\n",
        "  \n",
        " *  Dunder methods are functions with double underscores at the beginning and end of their names:\n",
        "\n",
        " DUble NDERscore → \"dunder\""
      ],
      "metadata": {
        "id": "vftLt-nV5ULi"
      }
    },
    {
      "cell_type": "markdown",
      "source": [
        "6.   **Explain the concept of inheritance in OOP**  \n",
        "\n",
        "   -   Inheritance allows one class (called the child or subclass) to inherit the properties and methods of another class (called the parent or superclass).\n",
        "\n",
        "It's like a child getting traits from a parent — no need to reinvent the wheel\n",
        "\n",
        "\n",
        "*   **Why Use Inheritance :>**  \n",
        "\n",
        " Reusability – write once, reuse many times\n",
        "\n",
        " Extensibility – easily add or override behavior\n",
        "\n",
        " Cleaner code – avoid duplication  \n",
        "\n",
        "\n",
        " **Types of Inheritance in Python:**  \n",
        "\n",
        " 1 Single\n",
        "\n",
        " 2 Multiple\n",
        "\n",
        " 3 Multilevel\n",
        "\n",
        " 4 Hierarchical"
      ],
      "metadata": {
        "id": "JYU_SPlF6ULS"
      }
    },
    {
      "cell_type": "markdown",
      "source": [
        "7.   **What is polymorphism in OOP**  \n",
        "\n",
        "     -  Polymorphism means \"many forms\".\n",
        "In OOP, polymorphism allows the same method name to behave differently depending on the object calling it."
      ],
      "metadata": {
        "id": "hbTiQhDk8RZ_"
      }
    },
    {
      "cell_type": "markdown",
      "source": [
        "8.   **How is encapsulation achieved in Python**\n",
        "\n",
        "   - Encapsulation means bundling data and methods that operate on that data into a single unit (a class), and restricting direct access to some of the object's components.\n",
        "\n",
        "     **Encapsulation is Achieved in Python:**\n",
        "\n",
        "     Public, protected, and private access conventions\n",
        "\n",
        "     Methods (getters/setters) to control data access  \n",
        "     "
      ],
      "metadata": {
        "id": "JoEipZnC9uRh"
      }
    },
    {
      "cell_type": "markdown",
      "source": [
        "9.  **What is a constructor in Python**   \n",
        "\n",
        "   - A constructor in Python is a special method that is automatically called when you create (instantiate) an object from a class.\n",
        "\n"
      ],
      "metadata": {
        "id": "YCOFgUgt-bjA"
      }
    },
    {
      "cell_type": "markdown",
      "source": [
        "10. **What are class and static methods in Python**  \n",
        "\n",
        "   - **Class Method**  \n",
        "     \n",
        "      A class method is bound to the class, not the object.\n",
        "\n",
        "     It takes cls (not self) as its first parameter.\n",
        "\n",
        "     It can access and modify class-level data, but not instance-specific data.\n",
        "\n",
        "      **Static Method**   \n",
        "\n",
        "      A static method doesn't take self or cls.\n",
        "\n",
        "      It does not depend on instance or class variables.\n",
        "\n",
        "      It’s just a regular function inside the class — used for utility purposes."
      ],
      "metadata": {
        "id": "heOp0JRr-v-d"
      }
    },
    {
      "cell_type": "markdown",
      "source": [
        "11.   **What is method overloading in Python**\n",
        "\n",
        "        - Method overloading means defining multiple methods with the same name but different arguments (number or type), so that the appropriate version is called based on how it's used."
      ],
      "metadata": {
        "id": "xiUri6lMk845"
      }
    },
    {
      "cell_type": "markdown",
      "source": [
        "12.   **What is method overriding in OOP**  \n",
        "    \n",
        "      - Method overriding means redefining a method in a child class that already exists in the parent class, to give it new behavior.\n",
        "\n",
        "      It allows a subclass to customize or replace functionality from its parent."
      ],
      "metadata": {
        "id": "BDviU3crlbiz"
      }
    },
    {
      "cell_type": "markdown",
      "source": [
        "13.   **What is a property decorator in Python**   \n",
        "\n",
        "    - The @property decorator is used to turn a method into a \"read-only\" attribute — so you can access it like a variable without calling it with ().\n",
        "\n",
        "It allows you to define getter, setter, and deleter methods in an elegant way."
      ],
      "metadata": {
        "id": "4O_rSEqUl1qe"
      }
    },
    {
      "cell_type": "markdown",
      "source": [
        "14.  **Why is polymorphism important in OOP**    \n",
        "\n",
        "  - Polymorphism means \"many forms\".\n",
        "It allows the same method name to behave differently depending on the object using it.\n",
        "\n",
        "**Polymorphism Important**   \n",
        "\n",
        "\n",
        "         Benefit\t                                      Description\n",
        "         \n",
        "        1. Code Reusability\t               You write general code that works with many different types of objects.\n",
        "        2. Flexibility & Extensibility\t    You can extend classes without changing the existing code structure.\n",
        "        3. Cleaner, Simpler Code\t          Less duplication — fewer if-else or type checks.\n",
        "        4. Interface Consistency\t          Different classes can follow the same interface (speak(), draw(), etc.)\n",
        "        5. Supports Open/Closed Principle\t Classes are open for extension but closed for modification."
      ],
      "metadata": {
        "id": "tWi7rDKTmTD7"
      }
    },
    {
      "cell_type": "markdown",
      "source": [
        "15.  **What is an abstract class in Python**   \n",
        "\n",
        " - An abstract class is a blueprint for other classes.\n",
        "\n",
        "It:\n",
        "\n",
        "Cannot be instantiated directly (you can’t create an object of it)\n",
        "\n",
        "Can define abstract methods — methods that must be implemented in child classes\n",
        "\n",
        "It’s used when you want to force subclasses to implement specific behavior."
      ],
      "metadata": {
        "id": "mzuBAqynnjG-"
      }
    },
    {
      "cell_type": "markdown",
      "source": [
        "16.  **What are the advantages of OOP**\n",
        "\n",
        "  - **Reusability (via Inheritance)**\n",
        "    \n",
        "     You can reuse existing code by creating new classes that inherit features from old ones.\n",
        "\n",
        "Saves time and reduces duplication\n",
        "\n",
        "Example: class Dog(Animal) — Dog reuses Animal’s features\n",
        "\n",
        "* **Modularity**  \n",
        "\n",
        "Each class is a self-contained module. You can work on one part of the program without affecting others.\n",
        "\n",
        " Makes code easier to understand, test, and debug.\n",
        "\n",
        " * **Data Security (Encapsulation)**  \n",
        "\n",
        " Encapsulation protects data by keeping it private and exposing only necessary parts through getters/setters.\n",
        "\n",
        " Prevents unintended data modification  \n",
        "\n",
        " *  **Flexibility (Polymorphism)**  \n",
        "\n",
        " Polymorphism lets you use a single interface for different types of objects.\n",
        "\n",
        " Makes your code more flexible and extensible\n",
        "Example: Same method name speak() used for Dog, Cat, etc.  \n",
        "\n",
        "* **Easy Maintenance & Updates**  \n",
        "\n",
        "If a bug is found or requirements change, you can update individual classes without breaking the whole system.\n",
        "\n",
        " Enhances code maintainability and collaboration in teams"
      ],
      "metadata": {
        "id": "-hVE82e1oN2E"
      }
    },
    {
      "cell_type": "markdown",
      "source": [
        "17.  **What is the difference between a class variable and an instance variable**  \n",
        "\n",
        "    -  **Instance Variable**  \n",
        "\n",
        "    Belongs to: A specific object (instance of a class)\n",
        "\n",
        "    Defined using: self.variable_name\n",
        "\n",
        "    Unique to each object — changing it for one object doesn’t affect others  \n",
        "\n",
        "\n",
        "  * **Class Variable**  \n",
        "\n",
        "  Belongs to: The class itself, shared by all objects\n",
        "\n",
        "  Defined: Outside any methods, usually at the top of the class\n",
        "\n",
        "  Same value for all instances (unless specifically overridden)\n",
        "\n"
      ],
      "metadata": {
        "id": "5F0cCNwPqvlJ"
      }
    },
    {
      "cell_type": "markdown",
      "source": [
        "18. **What is multiple inheritance in Python**  \n",
        "\n",
        "   Multiple Inheritance means a class can inherit from more than one parent class.\n",
        "\n",
        "  In simple words: A child class can combine features from multiple parents."
      ],
      "metadata": {
        "id": "8aKolZIBr0jQ"
      }
    },
    {
      "cell_type": "markdown",
      "source": [
        "19.    **Explain the purpose of ‘’__str__’ and ‘__repr__’ ‘ methods in Python**  \n",
        "\n",
        "  - **1. __str__() — User-Friendly String Representation**\n",
        "\n",
        "  Called when you use print(object) or str(object)\n",
        "\n",
        "  Returns a readable and nice-looking string\n",
        "\n",
        "  Meant for end users\n",
        "\n",
        "**2. __repr__() — Developer-Friendly Representation**  \n",
        "\n",
        "Called by repr(object) or when inspecting in the console (or debugging)\n",
        "\n",
        "Returns a precise, unambiguous string that can often be used to recreate the object\n",
        "\n",
        "Meant for developers"
      ],
      "metadata": {
        "id": "Vo9oIa1BvE1_"
      }
    },
    {
      "cell_type": "markdown",
      "source": [
        "20.    **What is the significance of the ‘super()’ function in Python**  \n",
        "\n",
        "  super() is a built-in function that gives you access to the methods and properties of a parent class — without having to name the parent directly.\n",
        "\n",
        "Think of it as a shortcut to inherit and extend behavior from a superclass."
      ],
      "metadata": {
        "id": "B4yxFZaUxZzJ"
      }
    },
    {
      "cell_type": "markdown",
      "source": [
        "21.  **What is the significance of the __del__ method in Python**  \n",
        "\n",
        "     - The __del__ method is called automatically when an object is about to be destroyed or garbage collected.\n",
        "\n",
        "It's like a \"clean-up\" method — similar to a destructor in other languages like C++."
      ],
      "metadata": {
        "id": "K050EyAYFQRQ"
      }
    },
    {
      "cell_type": "markdown",
      "source": [
        "22.  **What is the difference between @staticmethod and @classmethod in Python**\n",
        "\n",
        "    - **@staticmethod vs @classmethod — Core Difference**\n",
        "\n",
        "              Feature         \t  @staticmethod\t              @classmethod\n",
        "\n",
        "            First argument\t  Takes no special argument\t      Takes cls (class itself) as the first arg\n",
        "            \n",
        "            Accesses class?\t Cannot access class (cls)\t      Can access class variables and methods\n",
        "\n",
        "                                 or instance (self)\n",
        "            Use case\t         Utility/helper functions\t      Factory methods or class-level logic\n",
        "\n",
        "            Binding\t         Bound to the class,          \t  Bound to the class\n",
        "                                 not the instance"
      ],
      "metadata": {
        "id": "jD0XIt7IFwlj"
      }
    },
    {
      "cell_type": "markdown",
      "source": [
        "23.  **How does polymorphism work in Python with inheritance**  \n",
        "\n",
        "     Polymorphism means \"many forms\" — the same method name can have different behavior depending on the object that calls it.\n",
        "\n",
        "In inheritance, child classes override methods of the parent class.\n",
        "\n",
        "Python then decides which method to run at runtime."
      ],
      "metadata": {
        "id": "K7wDAY8iImqe"
      }
    },
    {
      "cell_type": "markdown",
      "source": [
        "24.  **What is method chaining in Python OOP**  \n",
        "\n",
        "   - Method chaining means calling multiple methods one after another on the same object, like this:\n",
        "         \n",
        "             object.method1().method2().method3()\n",
        "\n",
        "     Each method returns the object itself, allowing the next method to be called right after."
      ],
      "metadata": {
        "id": "lnGax4F7KCpu"
      }
    },
    {
      "cell_type": "markdown",
      "source": [
        "25. **What is the purpose of the __call__ method in Python**  \n",
        "\n",
        "   - The __call__() method is a special (dunder) method that lets you write:\n",
        "\n",
        "             object()  # Yes, with parentheses!\n",
        "\n",
        "      Behind the scenes, this runs:\n",
        "\n",
        "            object.__call__()"
      ],
      "metadata": {
        "id": "Sr3ZsQ9yMokp"
      }
    },
    {
      "cell_type": "code",
      "execution_count": null,
      "metadata": {
        "id": "pNLHZc3UodG3"
      },
      "outputs": [],
      "source": []
    },
    {
      "cell_type": "markdown",
      "source": [
        "# Practical Questions\n",
        "\n",
        "---\n",
        "\n",
        "\n",
        "\n",
        "---\n",
        "\n"
      ],
      "metadata": {
        "id": "jYd9ETb8N38y"
      }
    },
    {
      "cell_type": "markdown",
      "source": [
        "1.   Create a parent class Animal with a method speak() that prints a generic message. Create a child class Dog\n",
        "that overrides the speak() method to print \"Bark!\""
      ],
      "metadata": {
        "id": "McKUfRmJOEEq"
      }
    },
    {
      "cell_type": "code",
      "source": [
        "# Parent class\n",
        "class Animal:\n",
        "    def speak(self):\n",
        "        print(\"The animal makes a sound.\")\n",
        "\n",
        "# Child class that overrides speak()\n",
        "class Dog(Animal):\n",
        "    def speak(self):\n",
        "        print(\"Bark!\")\n",
        "\n",
        "# Test the classes\n",
        "a = Animal()\n",
        "a.speak()    # Output: The animal makes a sound.\n",
        "\n",
        "d = Dog()\n",
        "d.speak()    # Output: Bark!"
      ],
      "metadata": {
        "colab": {
          "base_uri": "https://localhost:8080/"
        },
        "id": "FjsdqGoqOBuX",
        "outputId": "7baa81c1-b7be-4978-ce77-8f0ce4b4bdb9"
      },
      "execution_count": 1,
      "outputs": [
        {
          "output_type": "stream",
          "name": "stdout",
          "text": [
            "The animal makes a sound.\n",
            "Bark!\n"
          ]
        }
      ]
    },
    {
      "cell_type": "markdown",
      "source": [
        "2.    Write a program to create an abstract class Shape with a method area(). Derive classes Circle and Rectangle\n",
        "from it and implement the area() method in both.\n",
        "\n",
        "\n"
      ],
      "metadata": {
        "id": "v9caYlnxOiMW"
      }
    },
    {
      "cell_type": "code",
      "source": [
        "from abc import ABC, abstractmethod\n",
        "import math\n",
        "\n",
        "# Abstract base class\n",
        "class Shape(ABC):\n",
        "    @abstractmethod\n",
        "    def area(self):\n",
        "        pass\n",
        "\n",
        "# Circle class inheriting from Shape\n",
        "class Circle(Shape):\n",
        "    def __init__(self, radius):\n",
        "        self.radius = radius\n",
        "\n",
        "    def area(self):\n",
        "        return math.pi * self.radius ** 2\n",
        "\n",
        "# Rectangle class inheriting from Shape\n",
        "class Rectangle(Shape):\n",
        "    def __init__(self, length, width):\n",
        "        self.length = length\n",
        "        self.width = width\n",
        "\n",
        "    def area(self):\n",
        "        return self.length * self.width\n",
        "\n",
        "# Test the classes\n",
        "c = Circle(5)\n",
        "r = Rectangle(4, 6)\n",
        "\n",
        "print(f\"Circle area: {c.area():.2f}\")      # Output: ~78.54\n",
        "print(f\"Rectangle area: {r.area()}\")      # Output: 24"
      ],
      "metadata": {
        "colab": {
          "base_uri": "https://localhost:8080/"
        },
        "id": "pwVozPATOckR",
        "outputId": "799aa912-d884-4f78-fdb5-a2b1366aa2cb"
      },
      "execution_count": 2,
      "outputs": [
        {
          "output_type": "stream",
          "name": "stdout",
          "text": [
            "Circle area: 78.54\n",
            "Rectangle area: 24\n"
          ]
        }
      ]
    },
    {
      "cell_type": "markdown",
      "source": [
        "3.   Implement a multi-level inheritance scenario where a class Vehicle has an attribute type. Derive a class Car and further derive a class ElectricCar that adds a battery attribute"
      ],
      "metadata": {
        "id": "19h4uyf-PA09"
      }
    },
    {
      "cell_type": "code",
      "source": [
        "# Base class\n",
        "class Vehicle:\n",
        "    def __init__(self, vehicle_type):\n",
        "        self.vehicle_type = vehicle_type\n",
        "\n",
        "    def show_type(self):\n",
        "        print(f\"Vehicle type: {self.vehicle_type}\")\n",
        "\n",
        "# Derived class\n",
        "class Car(Vehicle):\n",
        "    def __init__(self, vehicle_type, brand):\n",
        "        super().__init__(vehicle_type)\n",
        "        self.brand = brand\n",
        "\n",
        "    def show_brand(self):\n",
        "        print(f\"Brand: {self.brand}\")\n",
        "\n",
        "# Further derived class\n",
        "class ElectricCar(Car):\n",
        "    def __init__(self, vehicle_type, brand, battery_capacity):\n",
        "        super().__init__(vehicle_type, brand)\n",
        "        self.battery_capacity = battery_capacity\n",
        "\n",
        "    def show_battery(self):\n",
        "        print(f\"Battery capacity: {self.battery_capacity} kWh\")\n",
        "\n",
        "# Create an ElectricCar object\n",
        "e_car = ElectricCar(\"Four-Wheeler\", \"Tesla\", 75)\n",
        "\n",
        "# Call methods\n",
        "e_car.show_type()       # From Vehicle\n",
        "e_car.show_brand()      # From Car\n",
        "e_car.show_battery()    # From ElectricCar"
      ],
      "metadata": {
        "colab": {
          "base_uri": "https://localhost:8080/"
        },
        "id": "iHruZqJmO2iK",
        "outputId": "35553bc9-149e-4af0-9c56-a0992cdf3ce2"
      },
      "execution_count": 3,
      "outputs": [
        {
          "output_type": "stream",
          "name": "stdout",
          "text": [
            "Vehicle type: Four-Wheeler\n",
            "Brand: Tesla\n",
            "Battery capacity: 75 kWh\n"
          ]
        }
      ]
    },
    {
      "cell_type": "markdown",
      "source": [
        "4.  Demonstrate polymorphism by creating a base class Bird with a method fly(). Create two derived classes\n",
        "Sparrow and Penguin that override the fly() method.\n"
      ],
      "metadata": {
        "id": "XKazLXXOPdZu"
      }
    },
    {
      "cell_type": "code",
      "source": [
        "# Base class\n",
        "class Bird:\n",
        "    def fly(self):\n",
        "        print(\"Birds can fly in different ways.\")\n",
        "\n",
        "# Derived class - Sparrow\n",
        "class Sparrow(Bird):\n",
        "    def fly(self):\n",
        "        print(\"Sparrow flaps its wings and flies.\")\n",
        "\n",
        "# Derived class - Penguin\n",
        "class Penguin(Bird):\n",
        "    def fly(self):\n",
        "        print(\"Penguins can't fly, they waddle and swim.\")\n",
        "\n",
        "# Function demonstrating polymorphism\n",
        "def make_bird_fly(bird):\n",
        "    bird.fly()\n",
        "\n",
        "# Create instances\n",
        "bird1 = Sparrow()\n",
        "bird2 = Penguin()\n",
        "\n",
        "# Call the same method for different objects\n",
        "make_bird_fly(bird1)  # Output: Sparrow flaps its wings and flies.\n",
        "make_bird_fly(bird2)  # Output: Penguins can't fly, they waddle and swim."
      ],
      "metadata": {
        "colab": {
          "base_uri": "https://localhost:8080/"
        },
        "id": "8PH_prJAPald",
        "outputId": "e3c847c2-65ce-4393-a88b-d0ca6f3f313d"
      },
      "execution_count": 4,
      "outputs": [
        {
          "output_type": "stream",
          "name": "stdout",
          "text": [
            "Sparrow flaps its wings and flies.\n",
            "Penguins can't fly, they waddle and swim.\n"
          ]
        }
      ]
    },
    {
      "cell_type": "markdown",
      "source": [
        "5.  Write a program to demonstrate encapsulation by creating a class BankAccount with private attributes\n",
        "balance and methods to deposit, withdraw, and check balance."
      ],
      "metadata": {
        "id": "W57c7e9QQbVg"
      }
    },
    {
      "cell_type": "code",
      "source": [
        "class BankAccount:\n",
        "    def __init__(self, initial_balance=0):\n",
        "        self.__balance = initial_balance  # Private attribute\n",
        "\n",
        "    def deposit(self, amount):\n",
        "        if amount > 0:\n",
        "            self.__balance += amount\n",
        "            print(f\"Deposited ₹{amount}\")\n",
        "        else:\n",
        "            print(\"Invalid deposit amount.\")\n",
        "\n",
        "    def withdraw(self, amount):\n",
        "        if 0 < amount <= self.__balance:\n",
        "            self.__balance -= amount\n",
        "            print(f\"Withdrew ₹{amount}\")\n",
        "        else:\n",
        "            print(\"Insufficient funds or invalid amount.\")\n",
        "\n",
        "    def check_balance(self):\n",
        "        print(f\"Current Balance: ₹{self.__balance}\")\n",
        "\n",
        "# Test the BankAccount class\n",
        "account = BankAccount(500)     # Starting with ₹500\n",
        "account.deposit(200)           # Add ₹200\n",
        "account.withdraw(100)          # Take ₹100\n",
        "account.check_balance()        # Show balance\n",
        "\n",
        "# Trying to access the private balance directly (Not recommended!)\n",
        "# print(account.__balance)     # This will raise an AttributeError"
      ],
      "metadata": {
        "colab": {
          "base_uri": "https://localhost:8080/"
        },
        "id": "mUYBJVNEQYcp",
        "outputId": "2b11d64e-63dd-4cdf-84a2-fad1d75c59fc"
      },
      "execution_count": 5,
      "outputs": [
        {
          "output_type": "stream",
          "name": "stdout",
          "text": [
            "Deposited ₹200\n",
            "Withdrew ₹100\n",
            "Current Balance: ₹600\n"
          ]
        }
      ]
    },
    {
      "cell_type": "markdown",
      "source": [
        "6.  Demonstrate runtime polymorphism using a method play() in a base class Instrument. Derive classes Guitar\n",
        "and Piano that implement their own version of play()"
      ],
      "metadata": {
        "id": "zq9FtH8DRJ_2"
      }
    },
    {
      "cell_type": "code",
      "source": [
        "# Base class\n",
        "class Instrument:\n",
        "    def play(self):\n",
        "        print(\"The instrument makes a sound.\")\n",
        "\n",
        "# Derived class - Guitar\n",
        "class Guitar(Instrument):\n",
        "    def play(self):\n",
        "        print(\"Strumming the guitar strings 🎸\")\n",
        "\n",
        "# Derived class - Piano\n",
        "class Piano(Instrument):\n",
        "    def play(self):\n",
        "        print(\"Playing piano keys 🎹\")\n",
        "\n",
        "# Polymorphic function\n",
        "def start_playing(instrument):\n",
        "    instrument.play()\n",
        "\n",
        "# Create instances\n",
        "g = Guitar()\n",
        "p = Piano()\n",
        "\n",
        "# Use runtime polymorphism\n",
        "start_playing(g)  # Output: Strumming the guitar strings 🎸\n",
        "start_playing(p)  # Output: Playing piano keys 🎹"
      ],
      "metadata": {
        "colab": {
          "base_uri": "https://localhost:8080/"
        },
        "id": "CO8nCe5-RGNa",
        "outputId": "2dfb8052-4593-471c-e220-a9fab751a741"
      },
      "execution_count": 6,
      "outputs": [
        {
          "output_type": "stream",
          "name": "stdout",
          "text": [
            "Strumming the guitar strings 🎸\n",
            "Playing piano keys 🎹\n"
          ]
        }
      ]
    },
    {
      "cell_type": "markdown",
      "source": [
        "7.   Create a class MathOperations with a class method add_numbers() to add two numbers and a static\n",
        "method subtract_numbers() to subtract two numbers."
      ],
      "metadata": {
        "id": "wry-cuM_R_m7"
      }
    },
    {
      "cell_type": "code",
      "source": [
        "class MathOperations:\n",
        "    @classmethod\n",
        "    def add_numbers(cls, a, b):\n",
        "        return a + b\n",
        "\n",
        "    @staticmethod\n",
        "    def subtract_numbers(a, b):\n",
        "        return a - b\n",
        "\n",
        "# Using class method\n",
        "sum_result = MathOperations.add_numbers(10, 5)\n",
        "print(f\"Sum: {sum_result}\")  # Output: Sum: 15\n",
        "\n",
        "# Using static method\n",
        "diff_result = MathOperations.subtract_numbers(10, 5)\n",
        "print(f\"Difference: {diff_result}\")  # Output: Difference: 5"
      ],
      "metadata": {
        "colab": {
          "base_uri": "https://localhost:8080/"
        },
        "id": "hnRRBt52RtfO",
        "outputId": "12ce89b0-d4b5-48e9-ddcf-739e1ed7cae4"
      },
      "execution_count": 7,
      "outputs": [
        {
          "output_type": "stream",
          "name": "stdout",
          "text": [
            "Sum: 15\n",
            "Difference: 5\n"
          ]
        }
      ]
    },
    {
      "cell_type": "markdown",
      "source": [
        "8.   Implement a class Person with a class method to count the total number of persons created"
      ],
      "metadata": {
        "id": "cy1F4lfcSOrh"
      }
    },
    {
      "cell_type": "code",
      "source": [
        "class Person:\n",
        "    count = 0  # Class variable to track number of persons\n",
        "\n",
        "    def __init__(self, name):\n",
        "        self.name = name\n",
        "        Person.count += 1  # Increment on each object creation\n",
        "\n",
        "    @classmethod\n",
        "    def get_person_count(cls):\n",
        "        return cls.count\n",
        "\n",
        "# Creating Person objects\n",
        "p1 = Person(\"Alice\")\n",
        "p2 = Person(\"Bob\")\n",
        "p3 = Person(\"Sumit\")\n",
        "\n",
        "# Get total number of persons created\n",
        "print(f\"Total persons created: {Person.get_person_count()}\")"
      ],
      "metadata": {
        "colab": {
          "base_uri": "https://localhost:8080/"
        },
        "id": "-EgXOMj4SMCa",
        "outputId": "4f13468a-eb72-4718-f4ba-c425224c140f"
      },
      "execution_count": 8,
      "outputs": [
        {
          "output_type": "stream",
          "name": "stdout",
          "text": [
            "Total persons created: 3\n"
          ]
        }
      ]
    },
    {
      "cell_type": "markdown",
      "source": [
        "9.    Write a class Fraction with attributes numerator and denominator. Override the str method to display the\n",
        "fraction as \"numerator/denominator\"."
      ],
      "metadata": {
        "id": "YEUF6-PwSmXB"
      }
    },
    {
      "cell_type": "code",
      "source": [
        "class Fraction:\n",
        "    def __init__(self, numerator, denominator):\n",
        "        self.numerator = numerator\n",
        "        self.denominator = denominator\n",
        "\n",
        "    def __str__(self):\n",
        "        return f\"{self.numerator}/{self.denominator}\"\n",
        "\n",
        "# Create a fraction instance\n",
        "f = Fraction(3, 4)\n",
        "\n",
        "# Print the fraction\n",
        "print(f)  # Output: 3/4"
      ],
      "metadata": {
        "colab": {
          "base_uri": "https://localhost:8080/"
        },
        "id": "iae_7yUdSgP6",
        "outputId": "bc312b43-2942-4d8c-9243-0c1a5f44b7a3"
      },
      "execution_count": 9,
      "outputs": [
        {
          "output_type": "stream",
          "name": "stdout",
          "text": [
            "3/4\n"
          ]
        }
      ]
    },
    {
      "cell_type": "markdown",
      "source": [
        "10.  Demonstrate operator overloading by creating a class Vector and overriding the add method to add two\n",
        "vectors"
      ],
      "metadata": {
        "id": "f0z0UbkGS3mz"
      }
    },
    {
      "cell_type": "code",
      "source": [
        "class Vector:\n",
        "    def __init__(self, x, y):\n",
        "        self.x = x\n",
        "        self.y = y\n",
        "\n",
        "    # Overload the + operator\n",
        "    def __add__(self, other):\n",
        "        return Vector(self.x + other.x, self.y + other.y)\n",
        "\n",
        "    # For readable output\n",
        "    def __str__(self):\n",
        "        return f\"Vector({self.x}, {self.y})\"\n",
        "\n",
        "# Create two vector objects\n",
        "v1 = Vector(2, 3)\n",
        "v2 = Vector(4, 5)\n",
        "\n",
        "# Add the vectors using +\n",
        "v3 = v1 + v2\n",
        "\n",
        "# Display the result\n",
        "print(v3)  # Output: Vector(6, 8)"
      ],
      "metadata": {
        "colab": {
          "base_uri": "https://localhost:8080/"
        },
        "id": "TDesEzNyS2CJ",
        "outputId": "804bc68e-9965-4e97-c8c4-c0057a46fcbc"
      },
      "execution_count": 10,
      "outputs": [
        {
          "output_type": "stream",
          "name": "stdout",
          "text": [
            "Vector(6, 8)\n"
          ]
        }
      ]
    },
    {
      "cell_type": "markdown",
      "source": [
        "11.   Create a class Person with attributes name and age. Add a method greet() that prints \"Hello, my name is\n",
        "{name} and I am {age} years old.\""
      ],
      "metadata": {
        "id": "9Q0T7Zt2TJzc"
      }
    },
    {
      "cell_type": "code",
      "source": [
        "class Person:\n",
        "    def __init__(self, name, age):\n",
        "        self.name = name\n",
        "        self.age = age\n",
        "\n",
        "    def greet(self):\n",
        "        print(f\"Hello, my name is {self.name} and I am {self.age} years old.\")\n",
        "\n",
        "# Create a Person object\n",
        "p = Person(\"Sumit\", 25)\n",
        "\n",
        "# Call the greet method\n",
        "p.greet()"
      ],
      "metadata": {
        "colab": {
          "base_uri": "https://localhost:8080/"
        },
        "id": "I9td26J8TIom",
        "outputId": "62a9bd5c-ce9f-49e2-9252-cc7e39c391e0"
      },
      "execution_count": 11,
      "outputs": [
        {
          "output_type": "stream",
          "name": "stdout",
          "text": [
            "Hello, my name is Sumit and I am 25 years old.\n"
          ]
        }
      ]
    },
    {
      "cell_type": "markdown",
      "source": [
        "12.  Implement a class Student with attributes name and grades. Create a method average_grade() to compute the average of the grades."
      ],
      "metadata": {
        "id": "TlKsB5O0TZjM"
      }
    },
    {
      "cell_type": "code",
      "source": [
        "class Student:\n",
        "    def __init__(self, name, grades):\n",
        "        self.name = name\n",
        "        self.grades = grades  # This should be a list of numbers\n",
        "\n",
        "    def average_grade(self):\n",
        "        if self.grades:\n",
        "            return sum(self.grades) / len(self.grades)\n",
        "        else:\n",
        "            return 0.0\n",
        "\n",
        "# Create a Student object\n",
        "s = Student(\"Sumit\", [85, 90, 78, 92])\n",
        "\n",
        "# Calculate and print the average\n",
        "print(f\"{s.name}'s average grade is: {s.average_grade():.2f}\")"
      ],
      "metadata": {
        "colab": {
          "base_uri": "https://localhost:8080/"
        },
        "id": "Dk2QZSmnTYjo",
        "outputId": "caa83549-b411-4004-a3f6-bbc256c341ed"
      },
      "execution_count": 12,
      "outputs": [
        {
          "output_type": "stream",
          "name": "stdout",
          "text": [
            "Sumit's average grade is: 86.25\n"
          ]
        }
      ]
    },
    {
      "cell_type": "markdown",
      "source": [
        "13.  Create a class Rectangle with methods set_dimensions() to set the dimensions and area() to calculate the\n",
        "area.\n",
        "\n",
        "\n"
      ],
      "metadata": {
        "id": "vVPHAioHUXOU"
      }
    },
    {
      "cell_type": "code",
      "source": [
        "class Rectangle:\n",
        "    def __init__(self):\n",
        "        self.length = 0\n",
        "        self.width = 0\n",
        "\n",
        "    def set_dimensions(self, length, width):\n",
        "        self.length = length\n",
        "        self.width = width\n",
        "\n",
        "    def area(self):\n",
        "        return self.length * self.width\n",
        "\n",
        "# Create a Rectangle object\n",
        "rect = Rectangle()\n",
        "\n",
        "# Set dimensions\n",
        "rect.set_dimensions(5, 3)\n",
        "\n",
        "# Calculate and display the area\n",
        "print(f\"Area of the rectangle: {rect.area()}\")  # Output: 15"
      ],
      "metadata": {
        "colab": {
          "base_uri": "https://localhost:8080/"
        },
        "id": "hnhGPrmOUT21",
        "outputId": "b9e3c494-1f63-4113-d98b-19106dee0e84"
      },
      "execution_count": 13,
      "outputs": [
        {
          "output_type": "stream",
          "name": "stdout",
          "text": [
            "Area of the rectangle: 15\n"
          ]
        }
      ]
    },
    {
      "cell_type": "markdown",
      "source": [
        "14.   Create a class Employee with a method calculate_salary() that computes the salary based on hours worked\n",
        "and hourly rate. Create a derived class Manager that adds a bonus to the salary"
      ],
      "metadata": {
        "id": "ro1CCsrvUs6h"
      }
    },
    {
      "cell_type": "code",
      "source": [
        "# Base class\n",
        "class Employee:\n",
        "    def __init__(self, name, hours_worked, hourly_rate):\n",
        "        self.name = name\n",
        "        self.hours_worked = hours_worked\n",
        "        self.hourly_rate = hourly_rate\n",
        "\n",
        "    def calculate_salary(self):\n",
        "        return self.hours_worked * self.hourly_rate\n",
        "\n",
        "# Derived class\n",
        "class Manager(Employee):\n",
        "    def __init__(self, name, hours_worked, hourly_rate, bonus):\n",
        "        super().__init__(name, hours_worked, hourly_rate)\n",
        "        self.bonus = bonus\n",
        "\n",
        "    def calculate_salary(self):\n",
        "        base_salary = super().calculate_salary()\n",
        "        return base_salary + self.bonus\n",
        "\n",
        "# Test the classes\n",
        "e = Employee(\"Sumit\", 40, 200)\n",
        "m = Manager(\"Zoya\", 40, 300, 5000)\n",
        "\n",
        "print(f\"{e.name}'s salary: ₹{e.calculate_salary()}\")\n",
        "print(f\"{m.name}'s salary (with bonus): ₹{m.calculate_salary()}\")"
      ],
      "metadata": {
        "colab": {
          "base_uri": "https://localhost:8080/"
        },
        "id": "0YknAe9AUpA5",
        "outputId": "5d86e45a-9721-4b7b-dd36-db29d3ec3ff0"
      },
      "execution_count": 14,
      "outputs": [
        {
          "output_type": "stream",
          "name": "stdout",
          "text": [
            "Sumit's salary: ₹8000\n",
            "Zoya's salary (with bonus): ₹17000\n"
          ]
        }
      ]
    },
    {
      "cell_type": "markdown",
      "source": [
        "15. Create a class Product with attributes name, price, and quantity. Implement a method total_price() that\n",
        "calculates the total price of the product."
      ],
      "metadata": {
        "id": "OybaK1uoU6Y0"
      }
    },
    {
      "cell_type": "code",
      "source": [
        "class Product:\n",
        "    def __init__(self, name, price, quantity):\n",
        "        self.name = name\n",
        "        self.price = price\n",
        "        self.quantity = quantity\n",
        "\n",
        "    def total_price(self):\n",
        "        return self.price * self.quantity\n",
        "\n",
        "# Create a Product object\n",
        "p = Product(\"Laptop\", 50000, 2)\n",
        "\n",
        "# Calculate and print the total price\n",
        "print(f\"Total price for {p.name}s: ₹{p.total_price()}\")"
      ],
      "metadata": {
        "colab": {
          "base_uri": "https://localhost:8080/"
        },
        "id": "EE5QzuGAU45Y",
        "outputId": "ac3d0766-8cb4-4db0-c86a-6beb018f5c4f"
      },
      "execution_count": 15,
      "outputs": [
        {
          "output_type": "stream",
          "name": "stdout",
          "text": [
            "Total price for Laptops: ₹100000\n"
          ]
        }
      ]
    },
    {
      "cell_type": "markdown",
      "source": [
        "16.  Create a class Animal with an abstract method sound(). Create two derived classes Cow and Sheep that\n",
        "implement the sound() method."
      ],
      "metadata": {
        "id": "eKwfhgUeVIWu"
      }
    },
    {
      "cell_type": "code",
      "source": [
        "from abc import ABC, abstractmethod\n",
        "\n",
        "# Abstract base class\n",
        "class Animal(ABC):\n",
        "    @abstractmethod\n",
        "    def sound(self):\n",
        "        pass\n",
        "\n",
        "# Derived class Cow\n",
        "class Cow(Animal):\n",
        "    def sound(self):\n",
        "        return \"Moo\"\n",
        "\n",
        "# Derived class Sheep\n",
        "class Sheep(Animal):\n",
        "    def sound(self):\n",
        "        return \"Baa\"\n",
        "\n",
        "# Create instances and call sound()\n",
        "cow = Cow()\n",
        "sheep = Sheep()\n",
        "\n",
        "print(f\"Cow says: {cow.sound()}\")\n",
        "print(f\"Sheep says: {sheep.sound()}\")"
      ],
      "metadata": {
        "colab": {
          "base_uri": "https://localhost:8080/"
        },
        "id": "DR7iAOoSVHlf",
        "outputId": "dad46db9-6a92-48bc-f04a-2f1ad939a583"
      },
      "execution_count": 16,
      "outputs": [
        {
          "output_type": "stream",
          "name": "stdout",
          "text": [
            "Cow says: Moo\n",
            "Sheep says: Baa\n"
          ]
        }
      ]
    },
    {
      "cell_type": "markdown",
      "source": [
        "17. Create a class Book with attributes title, author, and year_published. Add a method get_book_info() that\n",
        "returns a formatted string with the book's details."
      ],
      "metadata": {
        "id": "zlKAKz_zVX6-"
      }
    },
    {
      "cell_type": "code",
      "source": [
        "class Book:\n",
        "    def __init__(self, title, author, year_published):\n",
        "        self.title = title\n",
        "        self.author = author\n",
        "        self.year_published = year_published\n",
        "\n",
        "    def get_book_info(self):\n",
        "        return f\"'{self.title}' by {self.author}, published in {self.year_published}.\"\n",
        "\n",
        "# Create a Book object\n",
        "book = Book(\"Atomic Habits\", \"James Clear\", 2018)\n",
        "\n",
        "# Get and print book information\n",
        "print(book.get_book_info())"
      ],
      "metadata": {
        "colab": {
          "base_uri": "https://localhost:8080/"
        },
        "id": "wQBpVPgBVWML",
        "outputId": "31f592d1-5a4d-4af2-ace5-e456a91611c5"
      },
      "execution_count": 17,
      "outputs": [
        {
          "output_type": "stream",
          "name": "stdout",
          "text": [
            "'Atomic Habits' by James Clear, published in 2018.\n"
          ]
        }
      ]
    },
    {
      "cell_type": "markdown",
      "source": [
        "18.  Create a class House with attributes address and price. Create a derived class Mansion that adds an\n",
        "attribute number_of_rooms."
      ],
      "metadata": {
        "id": "jJKBCzy8Voiv"
      }
    },
    {
      "cell_type": "code",
      "source": [
        "# Base class\n",
        "class House:\n",
        "    def __init__(self, address, price):\n",
        "        self.address = address\n",
        "        self.price = price\n",
        "\n",
        "# Derived class\n",
        "class Mansion(House):\n",
        "    def __init__(self, address, price, number_of_rooms):\n",
        "        super().__init__(address, price)\n",
        "        self.number_of_rooms = number_of_rooms\n",
        "\n",
        "    def get_info(self):\n",
        "        return f\"Address: {self.address}, Price: ₹{self.price}, Rooms: {self.number_of_rooms}\"\n",
        "\n",
        "# Create a Mansion object\n",
        "m = Mansion(\"Beverly Hills, LA\", 100000000, 15)\n",
        "\n",
        "# Print mansion information\n",
        "print(m.get_info())\n"
      ],
      "metadata": {
        "colab": {
          "base_uri": "https://localhost:8080/"
        },
        "id": "mpDwUeT4VmeE",
        "outputId": "b779876a-7f31-4edc-db37-c1b65a66d5ed"
      },
      "execution_count": 18,
      "outputs": [
        {
          "output_type": "stream",
          "name": "stdout",
          "text": [
            "Address: Beverly Hills, LA, Price: ₹100000000, Rooms: 15\n"
          ]
        }
      ]
    },
    {
      "cell_type": "code",
      "source": [],
      "metadata": {
        "id": "dhyLQu-6V8SZ"
      },
      "execution_count": null,
      "outputs": []
    }
  ]
}